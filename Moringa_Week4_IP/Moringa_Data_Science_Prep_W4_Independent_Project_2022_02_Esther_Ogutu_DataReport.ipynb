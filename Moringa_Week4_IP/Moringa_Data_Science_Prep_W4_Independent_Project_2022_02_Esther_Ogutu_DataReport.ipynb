{
  "nbformat": 4,
  "nbformat_minor": 0,
  "metadata": {
    "colab": {
      "name": "Moringa_Data_Science_Prep_W4_Independent_Project_2022_02_Esther_Ogutu_DataReport",
      "provenance": []
    },
    "kernelspec": {
      "name": "python3",
      "display_name": "Python 3"
    },
    "language_info": {
      "name": "python"
    }
  },
  "cells": [
    {
      "cell_type": "markdown",
      "source": [
        "#INDEPENDENT PROJECT WEEK-4 (ELECTRIC CAR SHARING SERVICE COMPANY"
      ],
      "metadata": {
        "id": "uZWf2RthisT3"
      }
    },
    {
      "cell_type": "markdown",
      "source": [
        "##1.0 Importing our Libraries"
      ],
      "metadata": {
        "id": "-pQrkTzIjuMu"
      }
    },
    {
      "cell_type": "code",
      "execution_count": null,
      "metadata": {
        "id": "u22cyAFGiqzN"
      },
      "outputs": [],
      "source": [
        "# Imporing the libraries that we will use\n",
        "\n",
        "#Importing the pandas library\n",
        "\n",
        "import pandas as pd\n",
        "\n",
        "#importing the numpy library\n",
        "\n",
        "import numpy as np"
      ]
    },
    {
      "cell_type": "markdown",
      "source": [
        "##1.1 Reading the Dataset from our CSV File"
      ],
      "metadata": {
        "id": "820xF6wMj4d7"
      }
    },
    {
      "cell_type": "code",
      "source": [
        "# Lets read our dataset from our CSV file and create a dataframe that we will use\n",
        "\n",
        "autolib_df=pd.read_csv('Autolib_dataset.csv')"
      ],
      "metadata": {
        "id": "sw0mrD6bkiqc"
      },
      "execution_count": null,
      "outputs": []
    },
    {
      "cell_type": "markdown",
      "source": [
        "##1.2 Previewing the First 10 Records of our Dataset"
      ],
      "metadata": {
        "id": "UwhfuQOflb08"
      }
    },
    {
      "cell_type": "code",
      "source": [
        "# Lets preview the first 10 record in our dataset\n",
        "\n",
        "# Importing the tabulate function that helps us in displaying the dataset in a tabular format\n",
        "\n",
        "from tabulate import tabulate\n",
        "\n",
        "print(tabulate(autolib_df.head(10), headers='keys', tablefmt='psql'))"
      ],
      "metadata": {
        "colab": {
          "base_uri": "https://localhost:8080/"
        },
        "id": "xF7Bl4bWluQi",
        "outputId": "3db1f595-a349-438c-fb58-0f68e505bb8b"
      },
      "execution_count": null,
      "outputs": [
        {
          "output_type": "stream",
          "name": "stdout",
          "text": [
            "+----+------------------------------------+--------+-------------------+------------------+----------------------+----------------+-------------------+------------+----------------------------------------------------+-----------------------------------+---------+-----------------------+---------------+--------------------------------------+-----------------+----------------+---------+----------------+----------+-----------------------+--------+---------+-------+--------+----------+\n",
            "|    | Address                            |   Cars |   Bluecar counter |   Utilib counter |   Utilib 1.4 counter |   Charge Slots | Charging Status   | City       | Displayed comment                                  | ID                                | Kind    | Geo point             |   Postal code | Public name                          | Rental status   |   Scheduled at |   Slots | Station type   | Status   | Subscription status   |   year |   month |   day |   hour |   minute |\n",
            "|----+------------------------------------+--------+-------------------+------------------+----------------------+----------------+-------------------+------------+----------------------------------------------------+-----------------------------------+---------+-----------------------+---------------+--------------------------------------+-----------------+----------------+---------+----------------+----------+-----------------------+--------+---------+-------+--------+----------|\n",
            "|  0 | 2 Avenue de Suffren                |      0 |                 0 |                0 |                    0 |              0 | nonexistent       | Paris      | nan                                                | paris-suffren-2                   | STATION | 48.857, 2.2917        |         75015 | Paris/Suffren/2                      | operational     |            nan |       2 | station        | ok       | nonexistent           |   2018 |       4 |     8 |     11 |       43 |\n",
            "|  1 | 145 Rue Raymond Losserand          |      6 |                 6 |                0 |                    0 |              0 | operational       | Paris      | nan                                                | paris-raymondlosserand-145        | STATION | 48.83126, 2.313088    |         75014 | Paris/Raymond Losserand/145          | operational     |            nan |       0 | station        | ok       | nonexistent           |   2018 |       4 |     6 |      7 |       24 |\n",
            "|  2 | 2 Avenue John Fitzgerald Kennedy   |      3 |                 3 |                0 |                    2 |              0 | operational       | Le Bourget | nan                                                | lebourget-johnfitzgeraldkennedy-2 | STATION | 48.938103, 2.4286035  |         93350 | Le Bourget/John Fitzgerald Kennedy/2 | operational     |            nan |       1 | station        | ok       | nonexistent           |   2018 |       4 |     3 |     20 |       14 |\n",
            "|  3 | 51 Rue EugÃ¨ne OudinÃ©             |      3 |                 3 |                1 |                    0 |              1 | operational       | Paris      | nan                                                | paris-eugeneoudine-51             | STATION | 48.8250327, 2.3725162 |         75013 | Paris/EugÃ¨ne OudinÃ©/51             | operational     |            nan |       2 | station        | ok       | nonexistent           |   2018 |       4 |     4 |      4 |       37 |\n",
            "|  4 | 6 avenue de la Porte de Champerret |      3 |                 3 |                0 |                    0 |              0 | nonexistent       | Paris      | nan                                                | paris-portedechamperret-6         | PARKING | 48.8862632, 2.2874511 |         75017 | Paris/Porte de Champerret/6          | operational     |            nan |       3 | station        | ok       | nonexistent           |   2018 |       4 |     8 |     17 |       23 |\n",
            "|  5 | 8 Boulevard Voltaire               |      0 |                 0 |                0 |                    0 |              0 | nonexistent       | Paris      | nan                                                | paris-voltaire-8                  | STATION | 48.8657658, 2.3664376 |         75011 | Paris/Voltaire/8                     | operational     |            nan |       4 | station        | ok       | nonexistent           |   2018 |       4 |     6 |      7 |        2 |\n",
            "|  6 | 37 rue Leblanc                     |      0 |                 0 |                0 |                    0 |              0 | nonexistent       | Paris      | Station en parking (niv -1), accÃ¨s 37 rue Leblanc | paris-citroencevennes-parking     | PARKING | 48.83874, 2.27641     |         75015 | Paris/CitroÃ«n CÃ©vennes/Parking     | broken          |            nan |       0 | station        | closed   | nonexistent           |   2018 |       4 |     8 |     18 |       20 |\n",
            "|  7 | 17 Rue des Luaps ProlongÃ©e        |      3 |                 3 |                1 |                    0 |              0 | nonexistent       | Nanterre   | nan                                                | nanterre-luaps-17                 | STATION | 48.88069, 2.21063     |         92000 | Nanterre/Luaps/17                    | operational     |            nan |       0 | station        | ok       | nonexistent           |   2018 |       4 |     4 |     22 |       13 |\n",
            "|  8 | 34 avenue Jean Moulin              |      1 |                 1 |                0 |                    0 |              0 | nonexistent       | Paris      | nan                                                | paris-jeanmoulin-34               | STATION | 48.8266807, 2.3237355 |         75014 | Paris/Jean Moulin/34                 | operational     |            nan |       4 | station        | ok       | nonexistent           |   2018 |       4 |     2 |     22 |       58 |\n",
            "|  9 | 41 boulevard de Rochechouart       |      6 |                 6 |                0 |                    0 |              0 | nonexistent       | Paris      | nan                                                | paris-anvers-parking              | PARKING | 48.88267, 2.34405     |         75009 | Paris/Anvers/Parking                 | operational     |            nan |       0 | station        | ok       | nonexistent           |   2018 |       4 |     4 |     15 |        2 |\n",
            "+----+------------------------------------+--------+-------------------+------------------+----------------------+----------------+-------------------+------------+----------------------------------------------------+-----------------------------------+---------+-----------------------+---------------+--------------------------------------+-----------------+----------------+---------+----------------+----------+-----------------------+--------+---------+-------+--------+----------+\n"
          ]
        }
      ]
    },
    {
      "cell_type": "markdown",
      "source": [
        "##1.3 Accessing Information about our Dataset"
      ],
      "metadata": {
        "id": "gGcqV_xWnvse"
      }
    },
    {
      "cell_type": "code",
      "source": [
        "# Lets access more information about the fields in our dataset\n",
        "\n",
        "autolib_df.info()"
      ],
      "metadata": {
        "colab": {
          "base_uri": "https://localhost:8080/"
        },
        "id": "cxcjNL-dodGy",
        "outputId": "50613e07-dfb2-440d-a51a-db74c21db970"
      },
      "execution_count": null,
      "outputs": [
        {
          "output_type": "stream",
          "name": "stdout",
          "text": [
            "<class 'pandas.core.frame.DataFrame'>\n",
            "RangeIndex: 5000 entries, 0 to 4999\n",
            "Data columns (total 25 columns):\n",
            " #   Column               Non-Null Count  Dtype \n",
            "---  ------               --------------  ----- \n",
            " 0   Address              5000 non-null   object\n",
            " 1   Cars                 5000 non-null   int64 \n",
            " 2   Bluecar counter      5000 non-null   int64 \n",
            " 3   Utilib counter       5000 non-null   int64 \n",
            " 4   Utilib 1.4 counter   5000 non-null   int64 \n",
            " 5   Charge Slots         5000 non-null   int64 \n",
            " 6   Charging Status      5000 non-null   object\n",
            " 7   City                 5000 non-null   object\n",
            " 8   Displayed comment    111 non-null    object\n",
            " 9   ID                   5000 non-null   object\n",
            " 10  Kind                 5000 non-null   object\n",
            " 11  Geo point            5000 non-null   object\n",
            " 12  Postal code          5000 non-null   int64 \n",
            " 13  Public name          5000 non-null   object\n",
            " 14  Rental status        5000 non-null   object\n",
            " 15  Scheduled at         47 non-null     object\n",
            " 16  Slots                5000 non-null   int64 \n",
            " 17  Station type         5000 non-null   object\n",
            " 18  Status               5000 non-null   object\n",
            " 19  Subscription status  5000 non-null   object\n",
            " 20  year                 5000 non-null   int64 \n",
            " 21  month                5000 non-null   int64 \n",
            " 22  day                  5000 non-null   int64 \n",
            " 23  hour                 5000 non-null   int64 \n",
            " 24  minute               5000 non-null   int64 \n",
            "dtypes: int64(12), object(13)\n",
            "memory usage: 976.7+ KB\n"
          ]
        }
      ]
    },
    {
      "cell_type": "markdown",
      "source": [
        "##1.4 Cleaning our Dataset"
      ],
      "metadata": {
        "id": "Jm4mI-5no78d"
      }
    },
    {
      "cell_type": "markdown",
      "source": [
        "###1.4.1 Validity"
      ],
      "metadata": {
        "id": "l9wsbBhHpGjs"
      }
    },
    {
      "cell_type": "code",
      "source": [
        "# Procedure 1: Irrelevant Data Observation\n",
        "# Data Cleaning Action: Dropping Geo Point,Address,Cars<Displayed Comments,ID Attributes\n",
        "# Explanation: We won't need the columns during Analysis. \n",
        "\n",
        "autolib_df.drop(columns=['Address', 'Cars','Displayed comment', 'ID', 'Geo point'], inplace=True)\n",
        "\n",
        "# Previewing the new dataset after dropping the unnecessary columns\n",
        "print(tabulate(autolib_df.head(10), headers='keys', tablefmt='psql'))"
      ],
      "metadata": {
        "colab": {
          "base_uri": "https://localhost:8080/"
        },
        "id": "HEaj5ztap4Fq",
        "outputId": "e45fdf2e-9608-4014-c9d8-c78ab44aed99"
      },
      "execution_count": null,
      "outputs": [
        {
          "output_type": "stream",
          "name": "stdout",
          "text": [
            "+----+-------------------+------------------+----------------------+----------------+-------------------+------------+---------+---------------+--------------------------------------+-----------------+----------------+---------+----------------+----------+-----------------------+--------+---------+-------+--------+----------+\n",
            "|    |   Bluecar counter |   Utilib counter |   Utilib 1.4 counter |   Charge Slots | Charging Status   | City       | Kind    |   Postal code | Public name                          | Rental status   |   Scheduled at |   Slots | Station type   | Status   | Subscription status   |   year |   month |   day |   hour |   minute |\n",
            "|----+-------------------+------------------+----------------------+----------------+-------------------+------------+---------+---------------+--------------------------------------+-----------------+----------------+---------+----------------+----------+-----------------------+--------+---------+-------+--------+----------|\n",
            "|  0 |                 0 |                0 |                    0 |              0 | nonexistent       | Paris      | STATION |         75015 | Paris/Suffren/2                      | operational     |            nan |       2 | station        | ok       | nonexistent           |   2018 |       4 |     8 |     11 |       43 |\n",
            "|  1 |                 6 |                0 |                    0 |              0 | operational       | Paris      | STATION |         75014 | Paris/Raymond Losserand/145          | operational     |            nan |       0 | station        | ok       | nonexistent           |   2018 |       4 |     6 |      7 |       24 |\n",
            "|  2 |                 3 |                0 |                    2 |              0 | operational       | Le Bourget | STATION |         93350 | Le Bourget/John Fitzgerald Kennedy/2 | operational     |            nan |       1 | station        | ok       | nonexistent           |   2018 |       4 |     3 |     20 |       14 |\n",
            "|  3 |                 3 |                1 |                    0 |              1 | operational       | Paris      | STATION |         75013 | Paris/EugÃ¨ne OudinÃ©/51             | operational     |            nan |       2 | station        | ok       | nonexistent           |   2018 |       4 |     4 |      4 |       37 |\n",
            "|  4 |                 3 |                0 |                    0 |              0 | nonexistent       | Paris      | PARKING |         75017 | Paris/Porte de Champerret/6          | operational     |            nan |       3 | station        | ok       | nonexistent           |   2018 |       4 |     8 |     17 |       23 |\n",
            "|  5 |                 0 |                0 |                    0 |              0 | nonexistent       | Paris      | STATION |         75011 | Paris/Voltaire/8                     | operational     |            nan |       4 | station        | ok       | nonexistent           |   2018 |       4 |     6 |      7 |        2 |\n",
            "|  6 |                 0 |                0 |                    0 |              0 | nonexistent       | Paris      | PARKING |         75015 | Paris/CitroÃ«n CÃ©vennes/Parking     | broken          |            nan |       0 | station        | closed   | nonexistent           |   2018 |       4 |     8 |     18 |       20 |\n",
            "|  7 |                 3 |                1 |                    0 |              0 | nonexistent       | Nanterre   | STATION |         92000 | Nanterre/Luaps/17                    | operational     |            nan |       0 | station        | ok       | nonexistent           |   2018 |       4 |     4 |     22 |       13 |\n",
            "|  8 |                 1 |                0 |                    0 |              0 | nonexistent       | Paris      | STATION |         75014 | Paris/Jean Moulin/34                 | operational     |            nan |       4 | station        | ok       | nonexistent           |   2018 |       4 |     2 |     22 |       58 |\n",
            "|  9 |                 6 |                0 |                    0 |              0 | nonexistent       | Paris      | PARKING |         75009 | Paris/Anvers/Parking                 | operational     |            nan |       0 | station        | ok       | nonexistent           |   2018 |       4 |     4 |     15 |        2 |\n",
            "+----+-------------------+------------------+----------------------+----------------+-------------------+------------+---------+---------------+--------------------------------------+-----------------+----------------+---------+----------------+----------+-----------------------+--------+---------+-------+--------+----------+\n"
          ]
        }
      ]
    },
    {
      "cell_type": "code",
      "source": [
        "# Procedure 2: Identifying Outliers\n",
        "# Data Cleaning Action: Using IQR to check for Outliers\n",
        "# Explanation: We need to identify how many outliers exist in our dataset and make a verdict on whether to delete them or not. \n",
        "\n",
        "# Calculating the First Quartile\n",
        "Q1 = autolib_df.quantile(0.25)\n",
        "\n",
        "# Calculating the Third Quartile\n",
        "Q3 = autolib_df.quantile(0.75)\n",
        "\n",
        "# Calculating the Quartile Range\n",
        "IQR = Q3 - Q1\n",
        "\n",
        "# Calculating 1.5 IQR below the First Quartile and checking for Low Outliers\n",
        "print((autolib_df < (Q1 - 1.5 * IQR)) | (autolib_df > (Q3 + 1.5 * IQR)))\n",
        "\n",
        "print('-------------------------------------------------------------------------------')\n",
        "\n",
        "#Displaying the number of outliers in the fields where the exist\n",
        "print(IQR)"
      ],
      "metadata": {
        "colab": {
          "base_uri": "https://localhost:8080/"
        },
        "id": "qxnIfAMeM7Dy",
        "outputId": "ead55919-aa01-4c7b-8d25-ec73ae54a303"
      },
      "execution_count": null,
      "outputs": [
        {
          "output_type": "stream",
          "name": "stdout",
          "text": [
            "      Bluecar counter  Charge Slots  Charging Status  ...  minute  month   year\n",
            "0               False         False            False  ...   False  False  False\n",
            "1               False         False            False  ...   False  False  False\n",
            "2               False         False            False  ...   False  False  False\n",
            "3               False          True            False  ...   False  False  False\n",
            "4               False         False            False  ...   False  False  False\n",
            "...               ...           ...              ...  ...     ...    ...    ...\n",
            "4995            False         False            False  ...   False  False  False\n",
            "4996            False          True            False  ...   False  False  False\n",
            "4997            False          True            False  ...   False  False  False\n",
            "4998            False         False            False  ...   False  False  False\n",
            "4999            False         False            False  ...   False  False  False\n",
            "\n",
            "[5000 rows x 20 columns]\n",
            "-------------------------------------------------------------------------------\n",
            "Bluecar counter           4.0\n",
            "Utilib counter            0.0\n",
            "Utilib 1.4 counter        0.0\n",
            "Charge Slots              0.0\n",
            "Postal code           17308.0\n",
            "Slots                     3.0\n",
            "year                      0.0\n",
            "month                     0.0\n",
            "day                       4.0\n",
            "hour                     12.0\n",
            "minute                   30.0\n",
            "dtype: float64\n"
          ]
        },
        {
          "output_type": "stream",
          "name": "stderr",
          "text": [
            "/usr/local/lib/python3.7/dist-packages/ipykernel_launcher.py:15: FutureWarning: Automatic reindexing on DataFrame vs Series comparisons is deprecated and will raise ValueError in a future version.  Do `left, right = left.align(right, axis=1, copy=False)` before e.g. `left == right`\n",
            "  from ipykernel import kernelapp as app\n"
          ]
        }
      ]
    },
    {
      "cell_type": "code",
      "source": [
        "# Procedure 3: Irrelevant Data Observation\n",
        "# Data Cleaning Action: Formmating the Date and Time Columns then dropping them\n",
        "# Explanation: It is easier to analyse data when the Date and Time columns are one as opposed to different columns\n",
        "\n",
        "# Changing the fours columns containing Date and Time into one Column\n",
        "Date_Time=pd.to_datetime(dict(year=autolib_df.year, month=autolib_df.month, day=autolib_df.day, hour=autolib_df.hour, minute=autolib_df.minute))\n",
        "\n",
        "# Passing the Date_Time Variable to the newly created Date_Time Column \n",
        "autolib_df['Date_Time']= Date_Time\n",
        "\n",
        "# Previewing the updated dataset with the Date_Time Column\n",
        "print(tabulate(autolib_df.head(10), headers='keys', tablefmt='psql'))"
      ],
      "metadata": {
        "colab": {
          "base_uri": "https://localhost:8080/"
        },
        "id": "1rZbCETWAeMn",
        "outputId": "10d76155-9044-4cad-9200-e328134c4581"
      },
      "execution_count": null,
      "outputs": [
        {
          "output_type": "stream",
          "name": "stdout",
          "text": [
            "+----+-------------------+------------------+----------------------+----------------+-------------------+------------+---------+---------------+--------------------------------------+-----------------+----------------+---------+----------------+----------+-----------------------+--------+---------+-------+--------+----------+---------------------+\n",
            "|    |   Bluecar counter |   Utilib counter |   Utilib 1.4 counter |   Charge Slots | Charging Status   | City       | Kind    |   Postal code | Public name                          | Rental status   |   Scheduled at |   Slots | Station type   | Status   | Subscription status   |   year |   month |   day |   hour |   minute | Date_Time           |\n",
            "|----+-------------------+------------------+----------------------+----------------+-------------------+------------+---------+---------------+--------------------------------------+-----------------+----------------+---------+----------------+----------+-----------------------+--------+---------+-------+--------+----------+---------------------|\n",
            "|  0 |                 0 |                0 |                    0 |              0 | nonexistent       | Paris      | STATION |         75015 | Paris/Suffren/2                      | operational     |            nan |       2 | station        | ok       | nonexistent           |   2018 |       4 |     8 |     11 |       43 | 2018-04-08 11:43:00 |\n",
            "|  1 |                 6 |                0 |                    0 |              0 | operational       | Paris      | STATION |         75014 | Paris/Raymond Losserand/145          | operational     |            nan |       0 | station        | ok       | nonexistent           |   2018 |       4 |     6 |      7 |       24 | 2018-04-06 07:24:00 |\n",
            "|  2 |                 3 |                0 |                    2 |              0 | operational       | Le Bourget | STATION |         93350 | Le Bourget/John Fitzgerald Kennedy/2 | operational     |            nan |       1 | station        | ok       | nonexistent           |   2018 |       4 |     3 |     20 |       14 | 2018-04-03 20:14:00 |\n",
            "|  3 |                 3 |                1 |                    0 |              1 | operational       | Paris      | STATION |         75013 | Paris/EugÃ¨ne OudinÃ©/51             | operational     |            nan |       2 | station        | ok       | nonexistent           |   2018 |       4 |     4 |      4 |       37 | 2018-04-04 04:37:00 |\n",
            "|  4 |                 3 |                0 |                    0 |              0 | nonexistent       | Paris      | PARKING |         75017 | Paris/Porte de Champerret/6          | operational     |            nan |       3 | station        | ok       | nonexistent           |   2018 |       4 |     8 |     17 |       23 | 2018-04-08 17:23:00 |\n",
            "|  5 |                 0 |                0 |                    0 |              0 | nonexistent       | Paris      | STATION |         75011 | Paris/Voltaire/8                     | operational     |            nan |       4 | station        | ok       | nonexistent           |   2018 |       4 |     6 |      7 |        2 | 2018-04-06 07:02:00 |\n",
            "|  6 |                 0 |                0 |                    0 |              0 | nonexistent       | Paris      | PARKING |         75015 | Paris/CitroÃ«n CÃ©vennes/Parking     | broken          |            nan |       0 | station        | closed   | nonexistent           |   2018 |       4 |     8 |     18 |       20 | 2018-04-08 18:20:00 |\n",
            "|  7 |                 3 |                1 |                    0 |              0 | nonexistent       | Nanterre   | STATION |         92000 | Nanterre/Luaps/17                    | operational     |            nan |       0 | station        | ok       | nonexistent           |   2018 |       4 |     4 |     22 |       13 | 2018-04-04 22:13:00 |\n",
            "|  8 |                 1 |                0 |                    0 |              0 | nonexistent       | Paris      | STATION |         75014 | Paris/Jean Moulin/34                 | operational     |            nan |       4 | station        | ok       | nonexistent           |   2018 |       4 |     2 |     22 |       58 | 2018-04-02 22:58:00 |\n",
            "|  9 |                 6 |                0 |                    0 |              0 | nonexistent       | Paris      | PARKING |         75009 | Paris/Anvers/Parking                 | operational     |            nan |       0 | station        | ok       | nonexistent           |   2018 |       4 |     4 |     15 |        2 | 2018-04-04 15:02:00 |\n",
            "+----+-------------------+------------------+----------------------+----------------+-------------------+------------+---------+---------------+--------------------------------------+-----------------+----------------+---------+----------------+----------+-----------------------+--------+---------+-------+--------+----------+---------------------+\n"
          ]
        }
      ]
    },
    {
      "cell_type": "code",
      "source": [
        "# Procedure 4: Irrelevant Data Observation\n",
        "# Data Cleaning Action: Dropping The year,month,day,hour and minute Attributes\n",
        "# Explanation: We won't need the columns during Analysis since we have merged them into one column\n",
        "\n",
        "# Lets drop the columns\n",
        "autolib_df.drop(columns=['year', 'month','day', 'hour', 'minute'], inplace=True)\n",
        "\n",
        "# Previewing the new dataset after dropping the unnecessary columns\n",
        "print(tabulate(autolib_df.head(10), headers='keys', tablefmt='psql'))"
      ],
      "metadata": {
        "colab": {
          "base_uri": "https://localhost:8080/"
        },
        "id": "j74BRUzUDSIu",
        "outputId": "88a865cd-9c6a-4185-acdc-d12632b0f980"
      },
      "execution_count": null,
      "outputs": [
        {
          "output_type": "stream",
          "name": "stdout",
          "text": [
            "+----+-------------------+------------------+----------------------+----------------+-------------------+------------+---------+---------------+--------------------------------------+-----------------+----------------+---------+----------------+----------+-----------------------+---------------------+\n",
            "|    |   Bluecar counter |   Utilib counter |   Utilib 1.4 counter |   Charge Slots | Charging Status   | City       | Kind    |   Postal code | Public name                          | Rental status   |   Scheduled at |   Slots | Station type   | Status   | Subscription status   | Date_Time           |\n",
            "|----+-------------------+------------------+----------------------+----------------+-------------------+------------+---------+---------------+--------------------------------------+-----------------+----------------+---------+----------------+----------+-----------------------+---------------------|\n",
            "|  0 |                 0 |                0 |                    0 |              0 | nonexistent       | Paris      | STATION |         75015 | Paris/Suffren/2                      | operational     |            nan |       2 | station        | ok       | nonexistent           | 2018-04-08 11:43:00 |\n",
            "|  1 |                 6 |                0 |                    0 |              0 | operational       | Paris      | STATION |         75014 | Paris/Raymond Losserand/145          | operational     |            nan |       0 | station        | ok       | nonexistent           | 2018-04-06 07:24:00 |\n",
            "|  2 |                 3 |                0 |                    2 |              0 | operational       | Le Bourget | STATION |         93350 | Le Bourget/John Fitzgerald Kennedy/2 | operational     |            nan |       1 | station        | ok       | nonexistent           | 2018-04-03 20:14:00 |\n",
            "|  3 |                 3 |                1 |                    0 |              1 | operational       | Paris      | STATION |         75013 | Paris/EugÃ¨ne OudinÃ©/51             | operational     |            nan |       2 | station        | ok       | nonexistent           | 2018-04-04 04:37:00 |\n",
            "|  4 |                 3 |                0 |                    0 |              0 | nonexistent       | Paris      | PARKING |         75017 | Paris/Porte de Champerret/6          | operational     |            nan |       3 | station        | ok       | nonexistent           | 2018-04-08 17:23:00 |\n",
            "|  5 |                 0 |                0 |                    0 |              0 | nonexistent       | Paris      | STATION |         75011 | Paris/Voltaire/8                     | operational     |            nan |       4 | station        | ok       | nonexistent           | 2018-04-06 07:02:00 |\n",
            "|  6 |                 0 |                0 |                    0 |              0 | nonexistent       | Paris      | PARKING |         75015 | Paris/CitroÃ«n CÃ©vennes/Parking     | broken          |            nan |       0 | station        | closed   | nonexistent           | 2018-04-08 18:20:00 |\n",
            "|  7 |                 3 |                1 |                    0 |              0 | nonexistent       | Nanterre   | STATION |         92000 | Nanterre/Luaps/17                    | operational     |            nan |       0 | station        | ok       | nonexistent           | 2018-04-04 22:13:00 |\n",
            "|  8 |                 1 |                0 |                    0 |              0 | nonexistent       | Paris      | STATION |         75014 | Paris/Jean Moulin/34                 | operational     |            nan |       4 | station        | ok       | nonexistent           | 2018-04-02 22:58:00 |\n",
            "|  9 |                 6 |                0 |                    0 |              0 | nonexistent       | Paris      | PARKING |         75009 | Paris/Anvers/Parking                 | operational     |            nan |       0 | station        | ok       | nonexistent           | 2018-04-04 15:02:00 |\n",
            "+----+-------------------+------------------+----------------------+----------------+-------------------+------------+---------+---------------+--------------------------------------+-----------------+----------------+---------+----------------+----------+-----------------------+---------------------+\n"
          ]
        }
      ]
    },
    {
      "cell_type": "markdown",
      "source": [
        "###1.4.2 Accuracy"
      ],
      "metadata": {
        "id": "X-F6zhW4pPs0"
      }
    },
    {
      "cell_type": "code",
      "source": [
        "# Procedure 1: None\n",
        "# Data Cleaning Action: None\n",
        "# Explanation: None"
      ],
      "metadata": {
        "id": "jS6IkPK4UKq2"
      },
      "execution_count": null,
      "outputs": []
    },
    {
      "cell_type": "markdown",
      "source": [
        "###1.4.3 Completeness"
      ],
      "metadata": {
        "id": "sxxigxAqpZjK"
      }
    },
    {
      "cell_type": "code",
      "source": [
        "# Procedure 1: Checking/ Counting Missing Values \n",
        "# Data Cleaning Action: \n",
        "# Explanation: We need to check missing values since they might interefer with our analysis\n",
        "\n",
        "# Checking if our Dataset contains any missing values \n",
        "print(autolib_df.isnull().values.any())\n",
        "\n",
        "print('-----------------------------------------------------------------')\n",
        "\n",
        "# Checking the number of missing values in each column\n",
        "print(autolib_df.isnull().sum())\n",
        "\n",
        "print('-----------------------------------------------------------------')\n",
        "\n",
        "# Checking the total number of missing values in our Dataset\n",
        "print(autolib_df.isnull().sum().sum())"
      ],
      "metadata": {
        "colab": {
          "base_uri": "https://localhost:8080/"
        },
        "id": "cDD8M6jSUSpi",
        "outputId": "71af4086-6ea4-4344-a2df-76454173481a"
      },
      "execution_count": null,
      "outputs": [
        {
          "output_type": "stream",
          "name": "stdout",
          "text": [
            "True\n",
            "-----------------------------------------------------------------\n",
            "Bluecar counter           0\n",
            "Utilib counter            0\n",
            "Utilib 1.4 counter        0\n",
            "Charge Slots              0\n",
            "Charging Status           0\n",
            "City                      0\n",
            "Kind                      0\n",
            "Postal code               0\n",
            "Public name               0\n",
            "Rental status             0\n",
            "Scheduled at           4953\n",
            "Slots                     0\n",
            "Station type              0\n",
            "Status                    0\n",
            "Subscription status       0\n",
            "Date_Time                 0\n",
            "dtype: int64\n",
            "-----------------------------------------------------------------\n",
            "4953\n"
          ]
        }
      ]
    },
    {
      "cell_type": "markdown",
      "source": [
        "From this analysis, we can see that we only have missing values in one column(Scheduled at). We can choose to drop the column or not since it won't affect our analysis. In my case, I won't drop it"
      ],
      "metadata": {
        "id": "JQrG0yAC_9oX"
      }
    },
    {
      "cell_type": "markdown",
      "source": [
        "###1.4.4 Consistency"
      ],
      "metadata": {
        "id": "Ko7WIKI4pj3P"
      }
    },
    {
      "cell_type": "code",
      "source": [
        "# Procedure 1: Duplicates\n",
        "# Data Cleaning Action:Checking for any Duplicate values in our dataset\n",
        "# Explanation: We need to remove all Duplicate values in our Dataset \n",
        "\n",
        "# Checking if our Dataset contains any Duplicated values \n",
        "autolib_df[autolib_df.duplicated()]\n",
        "\n",
        "# Identifying which observations are duplicates\n",
        "df_non_duplicates = autolib_df.drop_duplicates()\n",
        "\n",
        "# Let's see these non-duplicate files\n",
        "print(tabulate(df_non_duplicates.head(10), headers='keys', tablefmt='psql'))\n"
      ],
      "metadata": {
        "colab": {
          "base_uri": "https://localhost:8080/"
        },
        "id": "2bKueKrYZJyn",
        "outputId": "1f8a9a86-518b-4ddd-e2a9-8d7f99cddb51"
      },
      "execution_count": null,
      "outputs": [
        {
          "output_type": "stream",
          "name": "stdout",
          "text": [
            "+----+-------------------+------------------+----------------------+----------------+-------------------+------------+---------+---------------+--------------------------------------+-----------------+----------------+---------+----------------+----------+-----------------------+---------------------+\n",
            "|    |   Bluecar counter |   Utilib counter |   Utilib 1.4 counter |   Charge Slots | Charging Status   | City       | Kind    |   Postal code | Public name                          | Rental status   |   Scheduled at |   Slots | Station type   | Status   | Subscription status   | Date_Time           |\n",
            "|----+-------------------+------------------+----------------------+----------------+-------------------+------------+---------+---------------+--------------------------------------+-----------------+----------------+---------+----------------+----------+-----------------------+---------------------|\n",
            "|  0 |                 0 |                0 |                    0 |              0 | nonexistent       | Paris      | STATION |         75015 | Paris/Suffren/2                      | operational     |            nan |       2 | station        | ok       | nonexistent           | 2018-04-08 11:43:00 |\n",
            "|  1 |                 6 |                0 |                    0 |              0 | operational       | Paris      | STATION |         75014 | Paris/Raymond Losserand/145          | operational     |            nan |       0 | station        | ok       | nonexistent           | 2018-04-06 07:24:00 |\n",
            "|  2 |                 3 |                0 |                    2 |              0 | operational       | Le Bourget | STATION |         93350 | Le Bourget/John Fitzgerald Kennedy/2 | operational     |            nan |       1 | station        | ok       | nonexistent           | 2018-04-03 20:14:00 |\n",
            "|  3 |                 3 |                1 |                    0 |              1 | operational       | Paris      | STATION |         75013 | Paris/EugÃ¨ne OudinÃ©/51             | operational     |            nan |       2 | station        | ok       | nonexistent           | 2018-04-04 04:37:00 |\n",
            "|  4 |                 3 |                0 |                    0 |              0 | nonexistent       | Paris      | PARKING |         75017 | Paris/Porte de Champerret/6          | operational     |            nan |       3 | station        | ok       | nonexistent           | 2018-04-08 17:23:00 |\n",
            "|  5 |                 0 |                0 |                    0 |              0 | nonexistent       | Paris      | STATION |         75011 | Paris/Voltaire/8                     | operational     |            nan |       4 | station        | ok       | nonexistent           | 2018-04-06 07:02:00 |\n",
            "|  6 |                 0 |                0 |                    0 |              0 | nonexistent       | Paris      | PARKING |         75015 | Paris/CitroÃ«n CÃ©vennes/Parking     | broken          |            nan |       0 | station        | closed   | nonexistent           | 2018-04-08 18:20:00 |\n",
            "|  7 |                 3 |                1 |                    0 |              0 | nonexistent       | Nanterre   | STATION |         92000 | Nanterre/Luaps/17                    | operational     |            nan |       0 | station        | ok       | nonexistent           | 2018-04-04 22:13:00 |\n",
            "|  8 |                 1 |                0 |                    0 |              0 | nonexistent       | Paris      | STATION |         75014 | Paris/Jean Moulin/34                 | operational     |            nan |       4 | station        | ok       | nonexistent           | 2018-04-02 22:58:00 |\n",
            "|  9 |                 6 |                0 |                    0 |              0 | nonexistent       | Paris      | PARKING |         75009 | Paris/Anvers/Parking                 | operational     |            nan |       0 | station        | ok       | nonexistent           | 2018-04-04 15:02:00 |\n",
            "+----+-------------------+------------------+----------------------+----------------+-------------------+------------+---------+---------------+--------------------------------------+-----------------+----------------+---------+----------------+----------+-----------------------+---------------------+\n"
          ]
        }
      ]
    },
    {
      "cell_type": "code",
      "source": [
        ""
      ],
      "metadata": {
        "id": "dgHKq11sKfnk"
      },
      "execution_count": null,
      "outputs": []
    },
    {
      "cell_type": "markdown",
      "source": [
        "According to the results, the Dataframe does not contain any Duplicate values"
      ],
      "metadata": {
        "id": "Vmc3Ok758cPu"
      }
    },
    {
      "cell_type": "markdown",
      "source": [
        "###1.4.5 Uniformity"
      ],
      "metadata": {
        "id": "Rv97fFCXppwc"
      }
    },
    {
      "cell_type": "code",
      "source": [
        "# Procedure 1: None\n",
        "# Data Cleaning Action:None\n",
        "# Explanation: None"
      ],
      "metadata": {
        "id": "LenPiNfsZLdw"
      },
      "execution_count": null,
      "outputs": []
    },
    {
      "cell_type": "markdown",
      "source": [
        "##1.5 Exporting the Cleaned Dataset"
      ],
      "metadata": {
        "id": "gSLaW5V9B17z"
      }
    },
    {
      "cell_type": "code",
      "source": [
        "# Exporting our cleaned Dataset so that we can use it in our analysis\n",
        "autolib_df.to_csv('newautolib_df.csv')"
      ],
      "metadata": {
        "id": "yy6TOui1B8cM"
      },
      "execution_count": null,
      "outputs": []
    },
    {
      "cell_type": "markdown",
      "source": [
        "#1.6 Reading the DataFrame from our CSV File"
      ],
      "metadata": {
        "id": "jLIiBnOMDQqa"
      }
    },
    {
      "cell_type": "code",
      "source": [
        "# Lets read our dataset from our CSV file and create a dataframe that we will use\n",
        "autolib2_df=pd.read_csv('newautolib_df.csv')"
      ],
      "metadata": {
        "id": "8VWHsc1UC5Gg"
      },
      "execution_count": null,
      "outputs": []
    },
    {
      "cell_type": "markdown",
      "source": [
        "#1.7 Previewing our Cleaned DataFrame"
      ],
      "metadata": {
        "id": "tweWtFgpDtx4"
      }
    },
    {
      "cell_type": "code",
      "source": [
        "# Let's Preview the first 10 records of our cleaned DataFrame \n",
        "print(tabulate(autolib2_df.head(10), headers='keys', tablefmt='psql'))"
      ],
      "metadata": {
        "colab": {
          "base_uri": "https://localhost:8080/"
        },
        "id": "z3h4aPpZDOuw",
        "outputId": "73dfabfb-9bb6-4b26-b08e-f0d0383c560d"
      },
      "execution_count": null,
      "outputs": [
        {
          "output_type": "stream",
          "name": "stdout",
          "text": [
            "+----+--------------+-------------------+------------------+----------------------+----------------+-------------------+------------+---------+---------------+--------------------------------------+-----------------+----------------+---------+----------------+----------+-----------------------+---------------------+\n",
            "|    |   Unnamed: 0 |   Bluecar counter |   Utilib counter |   Utilib 1.4 counter |   Charge Slots | Charging Status   | City       | Kind    |   Postal code | Public name                          | Rental status   |   Scheduled at |   Slots | Station type   | Status   | Subscription status   | Date_Time           |\n",
            "|----+--------------+-------------------+------------------+----------------------+----------------+-------------------+------------+---------+---------------+--------------------------------------+-----------------+----------------+---------+----------------+----------+-----------------------+---------------------|\n",
            "|  0 |            0 |                 0 |                0 |                    0 |              0 | nonexistent       | Paris      | STATION |         75015 | Paris/Suffren/2                      | operational     |            nan |       2 | station        | ok       | nonexistent           | 2018-04-08 11:43:00 |\n",
            "|  1 |            1 |                 6 |                0 |                    0 |              0 | operational       | Paris      | STATION |         75014 | Paris/Raymond Losserand/145          | operational     |            nan |       0 | station        | ok       | nonexistent           | 2018-04-06 07:24:00 |\n",
            "|  2 |            2 |                 3 |                0 |                    2 |              0 | operational       | Le Bourget | STATION |         93350 | Le Bourget/John Fitzgerald Kennedy/2 | operational     |            nan |       1 | station        | ok       | nonexistent           | 2018-04-03 20:14:00 |\n",
            "|  3 |            3 |                 3 |                1 |                    0 |              1 | operational       | Paris      | STATION |         75013 | Paris/EugÃ¨ne OudinÃ©/51             | operational     |            nan |       2 | station        | ok       | nonexistent           | 2018-04-04 04:37:00 |\n",
            "|  4 |            4 |                 3 |                0 |                    0 |              0 | nonexistent       | Paris      | PARKING |         75017 | Paris/Porte de Champerret/6          | operational     |            nan |       3 | station        | ok       | nonexistent           | 2018-04-08 17:23:00 |\n",
            "|  5 |            5 |                 0 |                0 |                    0 |              0 | nonexistent       | Paris      | STATION |         75011 | Paris/Voltaire/8                     | operational     |            nan |       4 | station        | ok       | nonexistent           | 2018-04-06 07:02:00 |\n",
            "|  6 |            6 |                 0 |                0 |                    0 |              0 | nonexistent       | Paris      | PARKING |         75015 | Paris/CitroÃ«n CÃ©vennes/Parking     | broken          |            nan |       0 | station        | closed   | nonexistent           | 2018-04-08 18:20:00 |\n",
            "|  7 |            7 |                 3 |                1 |                    0 |              0 | nonexistent       | Nanterre   | STATION |         92000 | Nanterre/Luaps/17                    | operational     |            nan |       0 | station        | ok       | nonexistent           | 2018-04-04 22:13:00 |\n",
            "|  8 |            8 |                 1 |                0 |                    0 |              0 | nonexistent       | Paris      | STATION |         75014 | Paris/Jean Moulin/34                 | operational     |            nan |       4 | station        | ok       | nonexistent           | 2018-04-02 22:58:00 |\n",
            "|  9 |            9 |                 6 |                0 |                    0 |              0 | nonexistent       | Paris      | PARKING |         75009 | Paris/Anvers/Parking                 | operational     |            nan |       0 | station        | ok       | nonexistent           | 2018-04-04 15:02:00 |\n",
            "+----+--------------+-------------------+------------------+----------------------+----------------+-------------------+------------+---------+---------------+--------------------------------------+-----------------+----------------+---------+----------------+----------+-----------------------+---------------------+\n"
          ]
        }
      ]
    },
    {
      "cell_type": "code",
      "source": [
        "# Let's drop the unnnamed column\n",
        "autolib2_df.drop('Unnamed: 0',axis='columns', inplace=True)\n"
      ],
      "metadata": {
        "id": "USBDIji0Wl7D"
      },
      "execution_count": null,
      "outputs": []
    },
    {
      "cell_type": "markdown",
      "source": [
        "##1.8 Answering Questions"
      ],
      "metadata": {
        "id": "pGSn70Agptnx"
      }
    },
    {
      "cell_type": "markdown",
      "source": [
        "###1.Identify the most popular hour of the day for picking up a shared electric car (Bluecar) in the city of Paris over the month of April 2018."
      ],
      "metadata": {
        "id": "euQd_j4vEaUL"
      }
    },
    {
      "cell_type": "code",
      "source": [
        "# Let's begin with splitting the Date_Time to Date and Time columns for easier manipulation\n",
        "autolib2_df['Dates']=pd.to_datetime(autolib2_df['Date_Time']).dt.date\n",
        "autolib2_df['Time']=pd.to_datetime(autolib2_df['Date_Time']).dt.time\n",
        "\n",
        "print(tabulate(autolib2_df.head(10), headers='keys', tablefmt='psql'))"
      ],
      "metadata": {
        "colab": {
          "base_uri": "https://localhost:8080/"
        },
        "id": "sqMXIoCCEVJJ",
        "outputId": "d22e83b0-b4ab-45c7-c0f5-e0469258feb4"
      },
      "execution_count": null,
      "outputs": [
        {
          "output_type": "stream",
          "name": "stdout",
          "text": [
            "+----+-------------------+------------------+----------------------+----------------+-------------------+------------+---------+---------------+--------------------------------------+-----------------+----------------+---------+----------------+----------+-----------------------+---------------------+------------+----------+\n",
            "|    |   Bluecar counter |   Utilib counter |   Utilib 1.4 counter |   Charge Slots | Charging Status   | City       | Kind    |   Postal code | Public name                          | Rental status   |   Scheduled at |   Slots | Station type   | Status   | Subscription status   | Date_Time           | Dates      | Time     |\n",
            "|----+-------------------+------------------+----------------------+----------------+-------------------+------------+---------+---------------+--------------------------------------+-----------------+----------------+---------+----------------+----------+-----------------------+---------------------+------------+----------|\n",
            "|  0 |                 0 |                0 |                    0 |              0 | nonexistent       | Paris      | STATION |         75015 | Paris/Suffren/2                      | operational     |            nan |       2 | station        | ok       | nonexistent           | 2018-04-08 11:43:00 | 2018-04-08 | 11:43:00 |\n",
            "|  1 |                 6 |                0 |                    0 |              0 | operational       | Paris      | STATION |         75014 | Paris/Raymond Losserand/145          | operational     |            nan |       0 | station        | ok       | nonexistent           | 2018-04-06 07:24:00 | 2018-04-06 | 07:24:00 |\n",
            "|  2 |                 3 |                0 |                    2 |              0 | operational       | Le Bourget | STATION |         93350 | Le Bourget/John Fitzgerald Kennedy/2 | operational     |            nan |       1 | station        | ok       | nonexistent           | 2018-04-03 20:14:00 | 2018-04-03 | 20:14:00 |\n",
            "|  3 |                 3 |                1 |                    0 |              1 | operational       | Paris      | STATION |         75013 | Paris/EugÃ¨ne OudinÃ©/51             | operational     |            nan |       2 | station        | ok       | nonexistent           | 2018-04-04 04:37:00 | 2018-04-04 | 04:37:00 |\n",
            "|  4 |                 3 |                0 |                    0 |              0 | nonexistent       | Paris      | PARKING |         75017 | Paris/Porte de Champerret/6          | operational     |            nan |       3 | station        | ok       | nonexistent           | 2018-04-08 17:23:00 | 2018-04-08 | 17:23:00 |\n",
            "|  5 |                 0 |                0 |                    0 |              0 | nonexistent       | Paris      | STATION |         75011 | Paris/Voltaire/8                     | operational     |            nan |       4 | station        | ok       | nonexistent           | 2018-04-06 07:02:00 | 2018-04-06 | 07:02:00 |\n",
            "|  6 |                 0 |                0 |                    0 |              0 | nonexistent       | Paris      | PARKING |         75015 | Paris/CitroÃ«n CÃ©vennes/Parking     | broken          |            nan |       0 | station        | closed   | nonexistent           | 2018-04-08 18:20:00 | 2018-04-08 | 18:20:00 |\n",
            "|  7 |                 3 |                1 |                    0 |              0 | nonexistent       | Nanterre   | STATION |         92000 | Nanterre/Luaps/17                    | operational     |            nan |       0 | station        | ok       | nonexistent           | 2018-04-04 22:13:00 | 2018-04-04 | 22:13:00 |\n",
            "|  8 |                 1 |                0 |                    0 |              0 | nonexistent       | Paris      | STATION |         75014 | Paris/Jean Moulin/34                 | operational     |            nan |       4 | station        | ok       | nonexistent           | 2018-04-02 22:58:00 | 2018-04-02 | 22:58:00 |\n",
            "|  9 |                 6 |                0 |                    0 |              0 | nonexistent       | Paris      | PARKING |         75009 | Paris/Anvers/Parking                 | operational     |            nan |       0 | station        | ok       | nonexistent           | 2018-04-04 15:02:00 | 2018-04-04 | 15:02:00 |\n",
            "+----+-------------------+------------------+----------------------+----------------+-------------------+------------+---------+---------------+--------------------------------------+-----------------+----------------+---------+----------------+----------+-----------------------+---------------------+------------+----------+\n"
          ]
        }
      ]
    },
    {
      "cell_type": "code",
      "source": [
        "# Let's extract hours from our Date_Time Column\n",
        "autolib2_df['Hours']=pd.to_datetime(autolib2_df['Date_Time']).dt.hour\n",
        "\n",
        "print(tabulate(autolib2_df.head(10), headers='keys', tablefmt='psql'))\n"
      ],
      "metadata": {
        "colab": {
          "base_uri": "https://localhost:8080/"
        },
        "id": "3AC2bFJdHuez",
        "outputId": "0d8ad661-fa53-4eee-f508-e5b1bbe2f89b"
      },
      "execution_count": null,
      "outputs": [
        {
          "output_type": "stream",
          "name": "stdout",
          "text": [
            "+----+-------------------+------------------+----------------------+----------------+-------------------+------------+---------+---------------+--------------------------------------+-----------------+----------------+---------+----------------+----------+-----------------------+---------------------+------------+----------+---------+\n",
            "|    |   Bluecar counter |   Utilib counter |   Utilib 1.4 counter |   Charge Slots | Charging Status   | City       | Kind    |   Postal code | Public name                          | Rental status   |   Scheduled at |   Slots | Station type   | Status   | Subscription status   | Date_Time           | Dates      | Time     |   Hours |\n",
            "|----+-------------------+------------------+----------------------+----------------+-------------------+------------+---------+---------------+--------------------------------------+-----------------+----------------+---------+----------------+----------+-----------------------+---------------------+------------+----------+---------|\n",
            "|  0 |                 0 |                0 |                    0 |              0 | nonexistent       | Paris      | STATION |         75015 | Paris/Suffren/2                      | operational     |            nan |       2 | station        | ok       | nonexistent           | 2018-04-08 11:43:00 | 2018-04-08 | 11:43:00 |      11 |\n",
            "|  1 |                 6 |                0 |                    0 |              0 | operational       | Paris      | STATION |         75014 | Paris/Raymond Losserand/145          | operational     |            nan |       0 | station        | ok       | nonexistent           | 2018-04-06 07:24:00 | 2018-04-06 | 07:24:00 |       7 |\n",
            "|  2 |                 3 |                0 |                    2 |              0 | operational       | Le Bourget | STATION |         93350 | Le Bourget/John Fitzgerald Kennedy/2 | operational     |            nan |       1 | station        | ok       | nonexistent           | 2018-04-03 20:14:00 | 2018-04-03 | 20:14:00 |      20 |\n",
            "|  3 |                 3 |                1 |                    0 |              1 | operational       | Paris      | STATION |         75013 | Paris/EugÃ¨ne OudinÃ©/51             | operational     |            nan |       2 | station        | ok       | nonexistent           | 2018-04-04 04:37:00 | 2018-04-04 | 04:37:00 |       4 |\n",
            "|  4 |                 3 |                0 |                    0 |              0 | nonexistent       | Paris      | PARKING |         75017 | Paris/Porte de Champerret/6          | operational     |            nan |       3 | station        | ok       | nonexistent           | 2018-04-08 17:23:00 | 2018-04-08 | 17:23:00 |      17 |\n",
            "|  5 |                 0 |                0 |                    0 |              0 | nonexistent       | Paris      | STATION |         75011 | Paris/Voltaire/8                     | operational     |            nan |       4 | station        | ok       | nonexistent           | 2018-04-06 07:02:00 | 2018-04-06 | 07:02:00 |       7 |\n",
            "|  6 |                 0 |                0 |                    0 |              0 | nonexistent       | Paris      | PARKING |         75015 | Paris/CitroÃ«n CÃ©vennes/Parking     | broken          |            nan |       0 | station        | closed   | nonexistent           | 2018-04-08 18:20:00 | 2018-04-08 | 18:20:00 |      18 |\n",
            "|  7 |                 3 |                1 |                    0 |              0 | nonexistent       | Nanterre   | STATION |         92000 | Nanterre/Luaps/17                    | operational     |            nan |       0 | station        | ok       | nonexistent           | 2018-04-04 22:13:00 | 2018-04-04 | 22:13:00 |      22 |\n",
            "|  8 |                 1 |                0 |                    0 |              0 | nonexistent       | Paris      | STATION |         75014 | Paris/Jean Moulin/34                 | operational     |            nan |       4 | station        | ok       | nonexistent           | 2018-04-02 22:58:00 | 2018-04-02 | 22:58:00 |      22 |\n",
            "|  9 |                 6 |                0 |                    0 |              0 | nonexistent       | Paris      | PARKING |         75009 | Paris/Anvers/Parking                 | operational     |            nan |       0 | station        | ok       | nonexistent           | 2018-04-04 15:02:00 | 2018-04-04 | 15:02:00 |      15 |\n",
            "+----+-------------------+------------------+----------------------+----------------+-------------------+------------+---------+---------------+--------------------------------------+-----------------+----------------+---------+----------------+----------+-----------------------+---------------------+------------+----------+---------+\n"
          ]
        }
      ]
    },
    {
      "cell_type": "code",
      "source": [
        "# Let's create a new column with the Bluecar Difference for a given station, as the difference will tell whether a car was picked up, returned, or nothing happened\n",
        "Bluecar_Diff= autolib2_df['Bluecar counter'].diff()\n",
        "\n",
        "# Defining the new column\n",
        "autolib2_df['Bluecar_Diff'] = Bluecar_Diff\n",
        "\n",
        "# Displaying the updated table\n",
        "print(tabulate(autolib2_df.head(10), headers='keys', tablefmt='psql'))"
      ],
      "metadata": {
        "id": "GnpBblhoO6A0",
        "colab": {
          "base_uri": "https://localhost:8080/"
        },
        "outputId": "2f84b173-b4cb-4cdb-f7eb-4e8a84eba686"
      },
      "execution_count": null,
      "outputs": [
        {
          "output_type": "stream",
          "name": "stdout",
          "text": [
            "+----+-------------------+------------------+----------------------+----------------+-------------------+------------+---------+---------------+--------------------------------------+-----------------+----------------+---------+----------------+----------+-----------------------+---------------------+------------+----------+---------+----------------+\n",
            "|    |   Bluecar counter |   Utilib counter |   Utilib 1.4 counter |   Charge Slots | Charging Status   | City       | Kind    |   Postal code | Public name                          | Rental status   |   Scheduled at |   Slots | Station type   | Status   | Subscription status   | Date_Time           | Dates      | Time     |   Hours |   Bluecar_Diff |\n",
            "|----+-------------------+------------------+----------------------+----------------+-------------------+------------+---------+---------------+--------------------------------------+-----------------+----------------+---------+----------------+----------+-----------------------+---------------------+------------+----------+---------+----------------|\n",
            "|  0 |                 0 |                0 |                    0 |              0 | nonexistent       | Paris      | STATION |         75015 | Paris/Suffren/2                      | operational     |            nan |       2 | station        | ok       | nonexistent           | 2018-04-08 11:43:00 | 2018-04-08 | 11:43:00 |      11 |            nan |\n",
            "|  1 |                 6 |                0 |                    0 |              0 | operational       | Paris      | STATION |         75014 | Paris/Raymond Losserand/145          | operational     |            nan |       0 | station        | ok       | nonexistent           | 2018-04-06 07:24:00 | 2018-04-06 | 07:24:00 |       7 |              6 |\n",
            "|  2 |                 3 |                0 |                    2 |              0 | operational       | Le Bourget | STATION |         93350 | Le Bourget/John Fitzgerald Kennedy/2 | operational     |            nan |       1 | station        | ok       | nonexistent           | 2018-04-03 20:14:00 | 2018-04-03 | 20:14:00 |      20 |             -3 |\n",
            "|  3 |                 3 |                1 |                    0 |              1 | operational       | Paris      | STATION |         75013 | Paris/EugÃ¨ne OudinÃ©/51             | operational     |            nan |       2 | station        | ok       | nonexistent           | 2018-04-04 04:37:00 | 2018-04-04 | 04:37:00 |       4 |              0 |\n",
            "|  4 |                 3 |                0 |                    0 |              0 | nonexistent       | Paris      | PARKING |         75017 | Paris/Porte de Champerret/6          | operational     |            nan |       3 | station        | ok       | nonexistent           | 2018-04-08 17:23:00 | 2018-04-08 | 17:23:00 |      17 |              0 |\n",
            "|  5 |                 0 |                0 |                    0 |              0 | nonexistent       | Paris      | STATION |         75011 | Paris/Voltaire/8                     | operational     |            nan |       4 | station        | ok       | nonexistent           | 2018-04-06 07:02:00 | 2018-04-06 | 07:02:00 |       7 |             -3 |\n",
            "|  6 |                 0 |                0 |                    0 |              0 | nonexistent       | Paris      | PARKING |         75015 | Paris/CitroÃ«n CÃ©vennes/Parking     | broken          |            nan |       0 | station        | closed   | nonexistent           | 2018-04-08 18:20:00 | 2018-04-08 | 18:20:00 |      18 |              0 |\n",
            "|  7 |                 3 |                1 |                    0 |              0 | nonexistent       | Nanterre   | STATION |         92000 | Nanterre/Luaps/17                    | operational     |            nan |       0 | station        | ok       | nonexistent           | 2018-04-04 22:13:00 | 2018-04-04 | 22:13:00 |      22 |              3 |\n",
            "|  8 |                 1 |                0 |                    0 |              0 | nonexistent       | Paris      | STATION |         75014 | Paris/Jean Moulin/34                 | operational     |            nan |       4 | station        | ok       | nonexistent           | 2018-04-02 22:58:00 | 2018-04-02 | 22:58:00 |      22 |             -2 |\n",
            "|  9 |                 6 |                0 |                    0 |              0 | nonexistent       | Paris      | PARKING |         75009 | Paris/Anvers/Parking                 | operational     |            nan |       0 | station        | ok       | nonexistent           | 2018-04-04 15:02:00 | 2018-04-04 | 15:02:00 |      15 |              5 |\n",
            "+----+-------------------+------------------+----------------------+----------------+-------------------+------------+---------+---------------+--------------------------------------+-----------------+----------------+---------+----------------+----------+-----------------------+---------------------+------------+----------+---------+----------------+\n"
          ]
        }
      ]
    },
    {
      "cell_type": "markdown",
      "source": [
        "The difference helps us to identify whether a car was picked up, returned, or nothing happened\n",
        "If the value is negative, it means that cars have been picked. If the value is positive, it means that cars have been returned, while 0 implies that nothing happened"
      ],
      "metadata": {
        "id": "TlCzK1oDNz4a"
      }
    },
    {
      "cell_type": "code",
      "source": [
        "# Let's now answer the question. To get the popular hour to picked cars, we need to consider the negative values on the Bluecar_Diff column. \n",
        "\n",
        "autolib2_df[(autolib2_df['Bluecar_Diff'] < 0) & (autolib2_df['City'] == 'Paris')].groupby('Hours')['Hours'].count().nlargest(1)\n"
      ],
      "metadata": {
        "colab": {
          "base_uri": "https://localhost:8080/"
        },
        "id": "g_aV8jgTOmpU",
        "outputId": "65c725c6-2d46-481f-9d2b-a94e3c845917"
      },
      "execution_count": null,
      "outputs": [
        {
          "output_type": "execute_result",
          "data": {
            "text/plain": [
              "Hours\n",
              "21    80\n",
              "Name: Hours, dtype: int64"
            ]
          },
          "metadata": {},
          "execution_count": 112
        }
      ]
    },
    {
      "cell_type": "markdown",
      "source": [
        "###2.What is the most popular hour for returning cars?"
      ],
      "metadata": {
        "id": "hEMsY4G0Egrk"
      }
    },
    {
      "cell_type": "code",
      "source": [
        "# To get the popular hour for returning cars, we need to consider the positive values on the Bluecar_Diff column. \n",
        "\n",
        "autolib2_df[(autolib2_df['Bluecar_Diff'] > 0) & (autolib2_df['City'] == 'Paris')].groupby('Hours')['Hours'].count().nlargest(1)"
      ],
      "metadata": {
        "colab": {
          "base_uri": "https://localhost:8080/"
        },
        "id": "2APzNta-adco",
        "outputId": "3a57494b-173f-4ffa-cdbd-61b64c97492c"
      },
      "execution_count": null,
      "outputs": [
        {
          "output_type": "execute_result",
          "data": {
            "text/plain": [
              "Hours\n",
              "3    49\n",
              "Name: Hours, dtype: int64"
            ]
          },
          "metadata": {},
          "execution_count": 111
        }
      ]
    },
    {
      "cell_type": "markdown",
      "source": [
        "###3.What station is the most popular?\n",
        "Overall?\n",
        "At the most popular picking hour?"
      ],
      "metadata": {
        "id": "UGXVlvqVEpud"
      }
    },
    {
      "cell_type": "code",
      "source": [
        "# Popular Station Overall\n",
        "\n",
        "station_df=autolib2_df[(autolib2_df['Kind'] == 'STATION') & (autolib2_df['Status'] == 'ok')].groupby('Public name')['Public name'].count().nlargest(1)\n",
        "station_df"
      ],
      "metadata": {
        "colab": {
          "base_uri": "https://localhost:8080/"
        },
        "id": "rzV1sEI9a5yO",
        "outputId": "92a5f2d0-8ebc-4772-bdbc-41db6006fb29"
      },
      "execution_count": null,
      "outputs": [
        {
          "output_type": "execute_result",
          "data": {
            "text/plain": [
              "Public name\n",
              "Paris/Porte de Montrouge/8    13\n",
              "Name: Public name, dtype: int64"
            ]
          },
          "metadata": {},
          "execution_count": 115
        }
      ]
    },
    {
      "cell_type": "code",
      "source": [
        "# The most Popular Station at the most popular picking hour\n",
        "\n",
        "autolib2_df[(autolib2_df['Kind'] == 'STATION') & (autolib2_df['Status'] == 'ok') & (autolib2_df['Bluecar_Diff'] < 0)].groupby('Public name')['Public name'].count().nlargest(1)"
      ],
      "metadata": {
        "colab": {
          "base_uri": "https://localhost:8080/"
        },
        "id": "zpi6fcWMa8oD",
        "outputId": "1541981b-b949-422f-f4d5-7eb19c784074"
      },
      "execution_count": null,
      "outputs": [
        {
          "output_type": "execute_result",
          "data": {
            "text/plain": [
              "Public name\n",
              "Paris/Bernardins/23    7\n",
              "Name: Public name, dtype: int64"
            ]
          },
          "metadata": {},
          "execution_count": 109
        }
      ]
    },
    {
      "cell_type": "markdown",
      "source": [
        "###4.What postal code is the most popular for picking up Blue cars? Does the most popular station belong to that postal code?\n",
        "Overall?\n",
        "At the most popular picking hour?"
      ],
      "metadata": {
        "id": "PQqw0Wv-EwBS"
      }
    },
    {
      "cell_type": "code",
      "source": [
        "# The Most Popular Postal Code for Picking Blue Cars Overall\n",
        "\n",
        "postal_df=autolib2_df[(autolib2_df['Bluecar_Diff'] < 0)].groupby('Postal code')['Postal code'].count().nlargest(1)\n",
        "print(postal_df)"
      ],
      "metadata": {
        "colab": {
          "base_uri": "https://localhost:8080/"
        },
        "id": "8lLFSmPDeGVE",
        "outputId": "94acefa0-ed4a-433c-8dd6-5adcc4668ec7"
      },
      "execution_count": null,
      "outputs": [
        {
          "output_type": "stream",
          "name": "stdout",
          "text": [
            "Postal code\n",
            "75015    116\n",
            "Name: Postal code, dtype: int64\n"
          ]
        }
      ]
    },
    {
      "cell_type": "code",
      "source": [
        "# Finding the Postal Code of the most Popular Station\n",
        "autolib2_df.loc[(autolib2_df['Postal code'] == 75015) & (autolib2_df['Kind'] == 'STATION') & (autolib2_df['Status'] == 'ok')].groupby('Public name')['Public name'].count().nlargest(1)"
      ],
      "metadata": {
        "colab": {
          "base_uri": "https://localhost:8080/"
        },
        "id": "oMG_GLO0fWDX",
        "outputId": "c7591900-7e27-42a7-e5ab-26db7432f5f7"
      },
      "execution_count": null,
      "outputs": [
        {
          "output_type": "execute_result",
          "data": {
            "text/plain": [
              "Public name\n",
              "Paris/Commerce/5    8\n",
              "Name: Public name, dtype: int64"
            ]
          },
          "metadata": {},
          "execution_count": 120
        }
      ]
    },
    {
      "cell_type": "markdown",
      "source": [
        "According to the Analysis, the most popular station does not belong to that postal code. The public name of the most popular station overall is Paris/Porte de Montrouge/8, while the public name of the most popular station with most popular postal code (75015) is Paris/Commerce/5."
      ],
      "metadata": {
        "id": "MPdEnKF-kKEP"
      }
    },
    {
      "cell_type": "code",
      "source": [
        "# The Most Popular Postal Code for Picking Blue Cars at the most popular picking hour\n",
        "\n",
        "autolib2_df.loc[(autolib2_df['Bluecar_Diff'] < 0) & (autolib2_df['Hours'] == 21)].groupby('Postal code')['Postal code'].count().nlargest(1)"
      ],
      "metadata": {
        "colab": {
          "base_uri": "https://localhost:8080/"
        },
        "id": "xwGR7vpOeMBH",
        "outputId": "177ca655-4686-4c68-9f63-9762a43e2cc4"
      },
      "execution_count": null,
      "outputs": [
        {
          "output_type": "execute_result",
          "data": {
            "text/plain": [
              "Postal code\n",
              "75008    9\n",
              "Name: Postal code, dtype: int64"
            ]
          },
          "metadata": {},
          "execution_count": 122
        }
      ]
    },
    {
      "cell_type": "markdown",
      "source": [
        "###5.Do the results change if you consider Utilib and Utilib 1.4 instead of Blue cars? "
      ],
      "metadata": {
        "id": "1mx2yNwsE2Z2"
      }
    },
    {
      "cell_type": "markdown",
      "source": [
        "##5.1 Considering Utilib"
      ],
      "metadata": {
        "id": "Tncdi0MbmRWY"
      }
    },
    {
      "cell_type": "code",
      "source": [
        "Utilib_Diff= autolib2_df['Utilib counter'].diff()\n",
        "\n",
        "# Defining the new column\n",
        "autolib2_df['Utilib_Diff'] = Utilib_Diff\n",
        "\n",
        "# Displaying the updated table\n",
        "print(tabulate(autolib2_df.head(10), headers='keys', tablefmt='psql'))"
      ],
      "metadata": {
        "colab": {
          "base_uri": "https://localhost:8080/"
        },
        "id": "x3T4iLSZmYJQ",
        "outputId": "5afc3fa4-fea1-4262-e0b4-038294df7945"
      },
      "execution_count": null,
      "outputs": [
        {
          "output_type": "stream",
          "name": "stdout",
          "text": [
            "+----+-------------------+------------------+----------------------+----------------+-------------------+------------+---------+---------------+--------------------------------------+-----------------+----------------+---------+----------------+----------+-----------------------+---------------------+------------+----------+---------+----------------+---------------+\n",
            "|    |   Bluecar counter |   Utilib counter |   Utilib 1.4 counter |   Charge Slots | Charging Status   | City       | Kind    |   Postal code | Public name                          | Rental status   |   Scheduled at |   Slots | Station type   | Status   | Subscription status   | Date_Time           | Dates      | Time     |   Hours |   Bluecar_Diff |   Utilib_Diff |\n",
            "|----+-------------------+------------------+----------------------+----------------+-------------------+------------+---------+---------------+--------------------------------------+-----------------+----------------+---------+----------------+----------+-----------------------+---------------------+------------+----------+---------+----------------+---------------|\n",
            "|  0 |                 0 |                0 |                    0 |              0 | nonexistent       | Paris      | STATION |         75015 | Paris/Suffren/2                      | operational     |            nan |       2 | station        | ok       | nonexistent           | 2018-04-08 11:43:00 | 2018-04-08 | 11:43:00 |      11 |            nan |           nan |\n",
            "|  1 |                 6 |                0 |                    0 |              0 | operational       | Paris      | STATION |         75014 | Paris/Raymond Losserand/145          | operational     |            nan |       0 | station        | ok       | nonexistent           | 2018-04-06 07:24:00 | 2018-04-06 | 07:24:00 |       7 |              6 |             0 |\n",
            "|  2 |                 3 |                0 |                    2 |              0 | operational       | Le Bourget | STATION |         93350 | Le Bourget/John Fitzgerald Kennedy/2 | operational     |            nan |       1 | station        | ok       | nonexistent           | 2018-04-03 20:14:00 | 2018-04-03 | 20:14:00 |      20 |             -3 |             0 |\n",
            "|  3 |                 3 |                1 |                    0 |              1 | operational       | Paris      | STATION |         75013 | Paris/EugÃ¨ne OudinÃ©/51             | operational     |            nan |       2 | station        | ok       | nonexistent           | 2018-04-04 04:37:00 | 2018-04-04 | 04:37:00 |       4 |              0 |             1 |\n",
            "|  4 |                 3 |                0 |                    0 |              0 | nonexistent       | Paris      | PARKING |         75017 | Paris/Porte de Champerret/6          | operational     |            nan |       3 | station        | ok       | nonexistent           | 2018-04-08 17:23:00 | 2018-04-08 | 17:23:00 |      17 |              0 |            -1 |\n",
            "|  5 |                 0 |                0 |                    0 |              0 | nonexistent       | Paris      | STATION |         75011 | Paris/Voltaire/8                     | operational     |            nan |       4 | station        | ok       | nonexistent           | 2018-04-06 07:02:00 | 2018-04-06 | 07:02:00 |       7 |             -3 |             0 |\n",
            "|  6 |                 0 |                0 |                    0 |              0 | nonexistent       | Paris      | PARKING |         75015 | Paris/CitroÃ«n CÃ©vennes/Parking     | broken          |            nan |       0 | station        | closed   | nonexistent           | 2018-04-08 18:20:00 | 2018-04-08 | 18:20:00 |      18 |              0 |             0 |\n",
            "|  7 |                 3 |                1 |                    0 |              0 | nonexistent       | Nanterre   | STATION |         92000 | Nanterre/Luaps/17                    | operational     |            nan |       0 | station        | ok       | nonexistent           | 2018-04-04 22:13:00 | 2018-04-04 | 22:13:00 |      22 |              3 |             1 |\n",
            "|  8 |                 1 |                0 |                    0 |              0 | nonexistent       | Paris      | STATION |         75014 | Paris/Jean Moulin/34                 | operational     |            nan |       4 | station        | ok       | nonexistent           | 2018-04-02 22:58:00 | 2018-04-02 | 22:58:00 |      22 |             -2 |            -1 |\n",
            "|  9 |                 6 |                0 |                    0 |              0 | nonexistent       | Paris      | PARKING |         75009 | Paris/Anvers/Parking                 | operational     |            nan |       0 | station        | ok       | nonexistent           | 2018-04-04 15:02:00 | 2018-04-04 | 15:02:00 |      15 |              5 |             0 |\n",
            "+----+-------------------+------------------+----------------------+----------------+-------------------+------------+---------+---------------+--------------------------------------+-----------------+----------------+---------+----------------+----------+-----------------------+---------------------+------------+----------+---------+----------------+---------------+\n"
          ]
        }
      ]
    },
    {
      "cell_type": "code",
      "source": [
        "# Let's now answer the question. To get the popular hour to picked cars, we need to consider the negative values on the Utilib_Diff column. \n",
        "\n",
        "autolib2_df[(autolib2_df['Utilib_Diff'] < 0) & (autolib2_df['City'] == 'Paris')].groupby('Hours')['Hours'].count().nlargest(1)\n"
      ],
      "metadata": {
        "colab": {
          "base_uri": "https://localhost:8080/"
        },
        "id": "a24NYsNNm13a",
        "outputId": "6dc58344-7ed0-4ebf-cbc6-0dc15c32b7a3"
      },
      "execution_count": null,
      "outputs": [
        {
          "output_type": "execute_result",
          "data": {
            "text/plain": [
              "Hours\n",
              "19    12\n",
              "Name: Hours, dtype: int64"
            ]
          },
          "metadata": {},
          "execution_count": 124
        }
      ]
    },
    {
      "cell_type": "markdown",
      "source": [
        "##2.What is the most popular hour for returning cars?"
      ],
      "metadata": {
        "id": "CzLK_H7tnRLA"
      }
    },
    {
      "cell_type": "code",
      "source": [
        "# To get the popular hour for returning cars, we need to consider the positive values on the Utilib_Diff column. \n",
        "autolib2_df[(autolib2_df['Utilib_Diff'] > 0) & (autolib2_df['City'] == 'Paris')].groupby('Hours')['Hours'].count().nlargest(1)"
      ],
      "metadata": {
        "colab": {
          "base_uri": "https://localhost:8080/"
        },
        "id": "vsnXsIcanJ46",
        "outputId": "6f98dbb7-0af9-4f9b-ae38-9091ded03062"
      },
      "execution_count": null,
      "outputs": [
        {
          "output_type": "execute_result",
          "data": {
            "text/plain": [
              "Hours\n",
              "6    12\n",
              "Name: Hours, dtype: int64"
            ]
          },
          "metadata": {},
          "execution_count": 126
        }
      ]
    },
    {
      "cell_type": "markdown",
      "source": [
        "##3.What station is the most popular?\n",
        "Overall? At the most popular picking hour?"
      ],
      "metadata": {
        "id": "3lcj7gYnnuOs"
      }
    },
    {
      "cell_type": "code",
      "source": [
        "# Popular Station Overall\n",
        "\n",
        "station_df=autolib2_df[(autolib2_df['Kind'] == 'STATION') & (autolib2_df['Status'] == 'ok')].groupby('Public name')['Public name'].count().nlargest(1)\n",
        "station_df"
      ],
      "metadata": {
        "colab": {
          "base_uri": "https://localhost:8080/"
        },
        "id": "sXp7yDdQn9Os",
        "outputId": "a92bc3bb-0ac5-4fc0-8fac-c63133218b3e"
      },
      "execution_count": null,
      "outputs": [
        {
          "output_type": "execute_result",
          "data": {
            "text/plain": [
              "Public name\n",
              "Paris/Porte de Montrouge/8    13\n",
              "Name: Public name, dtype: int64"
            ]
          },
          "metadata": {},
          "execution_count": 127
        }
      ]
    },
    {
      "cell_type": "code",
      "source": [
        "# The most Popular Station at the most popular picking hour\n",
        "\n",
        "autolib2_df[(autolib2_df['Kind'] == 'STATION') & (autolib2_df['Status'] == 'ok') & (autolib2_df['Utilib_Diff'] < 0)].groupby('Public name')['Public name'].count().nlargest(1)"
      ],
      "metadata": {
        "colab": {
          "base_uri": "https://localhost:8080/"
        },
        "id": "6TOupzZloQoq",
        "outputId": "8a45e719-d23f-45b4-ecd6-4a6ad121010f"
      },
      "execution_count": null,
      "outputs": [
        {
          "output_type": "execute_result",
          "data": {
            "text/plain": [
              "Public name\n",
              "Issy-les-Moulineaux/Garibaldi/18    2\n",
              "Name: Public name, dtype: int64"
            ]
          },
          "metadata": {},
          "execution_count": 128
        }
      ]
    },
    {
      "cell_type": "markdown",
      "source": [
        "##4What postal code is the most popular for picking up Blue cars? Does the most popular station belong to that postal code?\n",
        "Overall? At the most popular picking hour?"
      ],
      "metadata": {
        "id": "fftQhhe3ogaU"
      }
    },
    {
      "cell_type": "code",
      "source": [
        "# The Most Popular Postal Code for Picking Utilib Overall\n",
        "\n",
        "postal_df=autolib2_df[(autolib2_df['Utilib_Diff'] < 0)].groupby('Postal code')['Postal code'].count().nlargest(1)\n",
        "print(postal_df)"
      ],
      "metadata": {
        "colab": {
          "base_uri": "https://localhost:8080/"
        },
        "id": "2B6TrR3AowqU",
        "outputId": "b5fb0907-48e8-4720-9bca-6da89b69bb33"
      },
      "execution_count": null,
      "outputs": [
        {
          "output_type": "stream",
          "name": "stdout",
          "text": [
            "Postal code\n",
            "75015    22\n",
            "Name: Postal code, dtype: int64\n"
          ]
        }
      ]
    },
    {
      "cell_type": "code",
      "source": [
        "# Finding the Postal Code of the most Popular Station\n",
        "autolib2_df.loc[(autolib2_df['Postal code'] == 75015) & (autolib2_df['Kind'] == 'STATION') & (autolib2_df['Status'] == 'ok')].groupby('Public name')['Public name'].count().nlargest(1)"
      ],
      "metadata": {
        "colab": {
          "base_uri": "https://localhost:8080/"
        },
        "id": "i7HZlEIcpFtJ",
        "outputId": "7b5064c2-a0d3-4e4d-a87a-633dfbd7c3d7"
      },
      "execution_count": null,
      "outputs": [
        {
          "output_type": "execute_result",
          "data": {
            "text/plain": [
              "Public name\n",
              "Paris/Commerce/5    8\n",
              "Name: Public name, dtype: int64"
            ]
          },
          "metadata": {},
          "execution_count": 130
        }
      ]
    },
    {
      "cell_type": "markdown",
      "source": [
        "According to the Analysis, the most popular station does not belong to that postal code. The public name of the most popular station overall is Issy-les-Moulineaux/Garibaldi/18, while the public name of the most popular station with most popular postal code (75015) is Paris/Commerce/5."
      ],
      "metadata": {
        "id": "LXQ5yA4Qn1X_"
      }
    },
    {
      "cell_type": "code",
      "source": [
        "# The Most Popular Postal Code for Picking Utilib at the most popular picking hour\n",
        "\n",
        "autolib2_df.loc[(autolib2_df['Utilib_Diff'] < 0) & (autolib2_df['Hours'] == 21)].groupby('Postal code')['Postal code'].count().nlargest(1)"
      ],
      "metadata": {
        "colab": {
          "base_uri": "https://localhost:8080/"
        },
        "id": "7Qazqs3ipjjq",
        "outputId": "dd75af4b-4c50-4225-ac83-c7ca4821f32e"
      },
      "execution_count": null,
      "outputs": [
        {
          "output_type": "execute_result",
          "data": {
            "text/plain": [
              "Postal code\n",
              "75012    1\n",
              "Name: Postal code, dtype: int64"
            ]
          },
          "metadata": {},
          "execution_count": 131
        }
      ]
    },
    {
      "cell_type": "markdown",
      "source": [
        "##5.2 Considering Utilib 1.4"
      ],
      "metadata": {
        "id": "JCtjNbUUp03U"
      }
    },
    {
      "cell_type": "code",
      "source": [
        "Utilib1_Diff= autolib2_df['Utilib 1.4 counter'].diff()\n",
        "\n",
        "# Defining the new column\n",
        "autolib2_df['Utilib1_Diff'] = Utilib1_Diff\n",
        "\n",
        "# Displaying the updated table\n",
        "print(tabulate(autolib2_df.head(10), headers='keys', tablefmt='psql'))"
      ],
      "metadata": {
        "colab": {
          "base_uri": "https://localhost:8080/"
        },
        "id": "Hff1wIjCp361",
        "outputId": "421d1f6b-528e-4e1d-a97e-97a7f7cb829c"
      },
      "execution_count": null,
      "outputs": [
        {
          "output_type": "stream",
          "name": "stdout",
          "text": [
            "+----+-------------------+------------------+----------------------+----------------+-------------------+------------+---------+---------------+--------------------------------------+-----------------+----------------+---------+----------------+----------+-----------------------+---------------------+------------+----------+---------+----------------+---------------+----------------+\n",
            "|    |   Bluecar counter |   Utilib counter |   Utilib 1.4 counter |   Charge Slots | Charging Status   | City       | Kind    |   Postal code | Public name                          | Rental status   |   Scheduled at |   Slots | Station type   | Status   | Subscription status   | Date_Time           | Dates      | Time     |   Hours |   Bluecar_Diff |   Utilib_Diff |   Utilib1_Diff |\n",
            "|----+-------------------+------------------+----------------------+----------------+-------------------+------------+---------+---------------+--------------------------------------+-----------------+----------------+---------+----------------+----------+-----------------------+---------------------+------------+----------+---------+----------------+---------------+----------------|\n",
            "|  0 |                 0 |                0 |                    0 |              0 | nonexistent       | Paris      | STATION |         75015 | Paris/Suffren/2                      | operational     |            nan |       2 | station        | ok       | nonexistent           | 2018-04-08 11:43:00 | 2018-04-08 | 11:43:00 |      11 |            nan |           nan |            nan |\n",
            "|  1 |                 6 |                0 |                    0 |              0 | operational       | Paris      | STATION |         75014 | Paris/Raymond Losserand/145          | operational     |            nan |       0 | station        | ok       | nonexistent           | 2018-04-06 07:24:00 | 2018-04-06 | 07:24:00 |       7 |              6 |             0 |              0 |\n",
            "|  2 |                 3 |                0 |                    2 |              0 | operational       | Le Bourget | STATION |         93350 | Le Bourget/John Fitzgerald Kennedy/2 | operational     |            nan |       1 | station        | ok       | nonexistent           | 2018-04-03 20:14:00 | 2018-04-03 | 20:14:00 |      20 |             -3 |             0 |              2 |\n",
            "|  3 |                 3 |                1 |                    0 |              1 | operational       | Paris      | STATION |         75013 | Paris/EugÃ¨ne OudinÃ©/51             | operational     |            nan |       2 | station        | ok       | nonexistent           | 2018-04-04 04:37:00 | 2018-04-04 | 04:37:00 |       4 |              0 |             1 |             -2 |\n",
            "|  4 |                 3 |                0 |                    0 |              0 | nonexistent       | Paris      | PARKING |         75017 | Paris/Porte de Champerret/6          | operational     |            nan |       3 | station        | ok       | nonexistent           | 2018-04-08 17:23:00 | 2018-04-08 | 17:23:00 |      17 |              0 |            -1 |              0 |\n",
            "|  5 |                 0 |                0 |                    0 |              0 | nonexistent       | Paris      | STATION |         75011 | Paris/Voltaire/8                     | operational     |            nan |       4 | station        | ok       | nonexistent           | 2018-04-06 07:02:00 | 2018-04-06 | 07:02:00 |       7 |             -3 |             0 |              0 |\n",
            "|  6 |                 0 |                0 |                    0 |              0 | nonexistent       | Paris      | PARKING |         75015 | Paris/CitroÃ«n CÃ©vennes/Parking     | broken          |            nan |       0 | station        | closed   | nonexistent           | 2018-04-08 18:20:00 | 2018-04-08 | 18:20:00 |      18 |              0 |             0 |              0 |\n",
            "|  7 |                 3 |                1 |                    0 |              0 | nonexistent       | Nanterre   | STATION |         92000 | Nanterre/Luaps/17                    | operational     |            nan |       0 | station        | ok       | nonexistent           | 2018-04-04 22:13:00 | 2018-04-04 | 22:13:00 |      22 |              3 |             1 |              0 |\n",
            "|  8 |                 1 |                0 |                    0 |              0 | nonexistent       | Paris      | STATION |         75014 | Paris/Jean Moulin/34                 | operational     |            nan |       4 | station        | ok       | nonexistent           | 2018-04-02 22:58:00 | 2018-04-02 | 22:58:00 |      22 |             -2 |            -1 |              0 |\n",
            "|  9 |                 6 |                0 |                    0 |              0 | nonexistent       | Paris      | PARKING |         75009 | Paris/Anvers/Parking                 | operational     |            nan |       0 | station        | ok       | nonexistent           | 2018-04-04 15:02:00 | 2018-04-04 | 15:02:00 |      15 |              5 |             0 |              0 |\n",
            "+----+-------------------+------------------+----------------------+----------------+-------------------+------------+---------+---------------+--------------------------------------+-----------------+----------------+---------+----------------+----------+-----------------------+---------------------+------------+----------+---------+----------------+---------------+----------------+\n"
          ]
        }
      ]
    },
    {
      "cell_type": "code",
      "source": [
        "# Let's now answer the question. To get the popular hour to picked cars, we need to consider the negative values on the Utilib1_Diff column. \n",
        "\n",
        "autolib2_df[(autolib2_df['Utilib1_Diff'] < 0) & (autolib2_df['City'] == 'Paris')].groupby('Hours')['Hours'].count().nlargest(1)"
      ],
      "metadata": {
        "colab": {
          "base_uri": "https://localhost:8080/"
        },
        "id": "NPR8LtSdqtQ9",
        "outputId": "b851c234-bf3b-485c-d203-6fafbe2d7ede"
      },
      "execution_count": null,
      "outputs": [
        {
          "output_type": "execute_result",
          "data": {
            "text/plain": [
              "Hours\n",
              "3    20\n",
              "Name: Hours, dtype: int64"
            ]
          },
          "metadata": {},
          "execution_count": 134
        }
      ]
    },
    {
      "cell_type": "markdown",
      "source": [
        "##2.What is the most popular hour for returning cars?"
      ],
      "metadata": {
        "id": "raAF3ETsqn9B"
      }
    },
    {
      "cell_type": "code",
      "source": [
        "# To get the popular hour for returning cars, we need to consider the positive values on the Utilib1_Diff column. \n",
        "autolib2_df[(autolib2_df['Utilib1_Diff'] > 0) & (autolib2_df['City'] == 'Paris')].groupby('Hours')['Hours'].count().nlargest(1)"
      ],
      "metadata": {
        "colab": {
          "base_uri": "https://localhost:8080/"
        },
        "id": "KW-7rsz3q5ca",
        "outputId": "6c7250ae-6b4c-498d-8d51-271c520cfe63"
      },
      "execution_count": null,
      "outputs": [
        {
          "output_type": "execute_result",
          "data": {
            "text/plain": [
              "Hours\n",
              "9    17\n",
              "Name: Hours, dtype: int64"
            ]
          },
          "metadata": {},
          "execution_count": 135
        }
      ]
    },
    {
      "cell_type": "markdown",
      "source": [
        "##3.What station is the most popular?\n",
        "Overall? At the most popular picking hour?"
      ],
      "metadata": {
        "id": "4G3ifZnrrBk7"
      }
    },
    {
      "cell_type": "code",
      "source": [
        "# Popular Station Overall\n",
        "\n",
        "station_df=autolib2_df[(autolib2_df['Kind'] == 'STATION') & (autolib2_df['Status'] == 'ok')].groupby('Public name')['Public name'].count().nlargest(1)\n",
        "station_df"
      ],
      "metadata": {
        "colab": {
          "base_uri": "https://localhost:8080/"
        },
        "id": "KZ4C02wyrGGP",
        "outputId": "f1ad9deb-da21-4dbc-e8da-1d520551205d"
      },
      "execution_count": null,
      "outputs": [
        {
          "output_type": "execute_result",
          "data": {
            "text/plain": [
              "Public name\n",
              "Paris/Porte de Montrouge/8    13\n",
              "Name: Public name, dtype: int64"
            ]
          },
          "metadata": {},
          "execution_count": 136
        }
      ]
    },
    {
      "cell_type": "code",
      "source": [
        "# The most Popular Station at the most popular picking hour\n",
        "\n",
        "autolib2_df[(autolib2_df['Kind'] == 'STATION') & (autolib2_df['Status'] == 'ok') & (autolib2_df['Utilib1_Diff'] < 0)].groupby('Public name')['Public name'].count().nlargest(1)"
      ],
      "metadata": {
        "colab": {
          "base_uri": "https://localhost:8080/"
        },
        "id": "PtbOrOQ8rTm1",
        "outputId": "59640725-9396-4c26-a317-ec01464d3ff8"
      },
      "execution_count": null,
      "outputs": [
        {
          "output_type": "execute_result",
          "data": {
            "text/plain": [
              "Public name\n",
              "CrÃ©teil/Denfert Rochereau/12    3\n",
              "Name: Public name, dtype: int64"
            ]
          },
          "metadata": {},
          "execution_count": 137
        }
      ]
    },
    {
      "cell_type": "markdown",
      "source": [
        "##4What postal code is the most popular for picking up Blue cars? Does the most popular station belong to that postal code?\n",
        "Overall? At the most popular picking hour?"
      ],
      "metadata": {
        "id": "wEW0-3NKrdeq"
      }
    },
    {
      "cell_type": "code",
      "source": [
        "# The Most Popular Postal Code for Picking Utilib 1.4 Overall\n",
        "\n",
        "postal_df=autolib2_df[(autolib2_df['Utilib1_Diff'] < 0)].groupby('Postal code')['Postal code'].count().nlargest(1)\n",
        "print(postal_df)"
      ],
      "metadata": {
        "colab": {
          "base_uri": "https://localhost:8080/"
        },
        "id": "R7WOvWK6rjVh",
        "outputId": "f5b32d8a-47d6-4e95-ab65-edd8cebeb8e7"
      },
      "execution_count": null,
      "outputs": [
        {
          "output_type": "stream",
          "name": "stdout",
          "text": [
            "Postal code\n",
            "75015    35\n",
            "Name: Postal code, dtype: int64\n"
          ]
        }
      ]
    },
    {
      "cell_type": "code",
      "source": [
        "# Finding the Postal Code of the most Popular Station\n",
        "autolib2_df.loc[(autolib2_df['Postal code'] == 75015) & (autolib2_df['Kind'] == 'STATION') & (autolib2_df['Status'] == 'ok')].groupby('Public name')['Public name'].count().nlargest(1)"
      ],
      "metadata": {
        "colab": {
          "base_uri": "https://localhost:8080/"
        },
        "id": "GOC9CkRUrsOS",
        "outputId": "b5d64e96-cff3-4ceb-c16b-04683178936a"
      },
      "execution_count": null,
      "outputs": [
        {
          "output_type": "execute_result",
          "data": {
            "text/plain": [
              "Public name\n",
              "Paris/Commerce/5    8\n",
              "Name: Public name, dtype: int64"
            ]
          },
          "metadata": {},
          "execution_count": 139
        }
      ]
    },
    {
      "cell_type": "markdown",
      "source": [
        "According to the Analysis, the most popular station does not belong to that postal code. The public name of the most popular station overall is CrÃ©teil/Denfert Rochereau/12, while the public name of the most popular station with most popular postal code (75015) is Paris/Commerce/5."
      ],
      "metadata": {
        "id": "6dIVpznjr4m8"
      }
    },
    {
      "cell_type": "code",
      "source": [
        "# The Most Popular Postal Code for Picking Utility 1.4 at the most popular picking hour\n",
        "\n",
        "autolib2_df.loc[(autolib2_df['Utilib1_Diff'] < 0) & (autolib2_df['Hours'] == 21)].groupby('Postal code')['Postal code'].count().nlargest(1)"
      ],
      "metadata": {
        "colab": {
          "base_uri": "https://localhost:8080/"
        },
        "id": "qk69V0uwsLKb",
        "outputId": "071e7f21-5121-4ec4-a3ef-324a43f0bfa1"
      },
      "execution_count": null,
      "outputs": [
        {
          "output_type": "execute_result",
          "data": {
            "text/plain": [
              "Postal code\n",
              "75017    3\n",
              "Name: Postal code, dtype: int64"
            ]
          },
          "metadata": {},
          "execution_count": 140
        }
      ]
    }
  ]
}